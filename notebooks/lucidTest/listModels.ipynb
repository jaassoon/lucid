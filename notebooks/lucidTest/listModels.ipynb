{
  "nbformat": 4,
  "nbformat_minor": 0,
  "metadata": {
    "colab": {
      "name": "listModels.ipynb",
      "version": "0.3.2",
      "provenance": [],
      "include_colab_link": true
    },
    "kernelspec": {
      "name": "python2",
      "display_name": "Python 2"
    }
  },
  "cells": [
    {
      "cell_type": "markdown",
      "metadata": {
        "id": "view-in-github",
        "colab_type": "text"
      },
      "source": [
        "<a href=\"https://colab.research.google.com/github/jaassoon/lucid/blob/master/notebooks/lucidTest/listModels.ipynb\" target=\"_parent\"><img src=\"https://colab.research.google.com/assets/colab-badge.svg\" alt=\"Open In Colab\"/></a>"
      ]
    },
    {
      "cell_type": "code",
      "metadata": {
        "id": "RanC6ZiU5Jm1",
        "colab_type": "code",
        "colab": {}
      },
      "source": [
        "# Expanded modelzoo is only available as of lucid v0.3\n",
        "!pip install --quiet lucid==0.3\n",
        "\n",
        "import numpy as np\n",
        "import tensorflow as tf\n",
        "\n",
        "from lucid.misc.io import show, load\n",
        "import lucid.optvis.objectives as objectives\n",
        "import lucid.optvis.param as param\n",
        "import lucid.optvis.render as render\n",
        "import lucid.optvis.transform as transform"
      ],
      "execution_count": 0,
      "outputs": []
    },
    {
      "cell_type": "code",
      "metadata": {
        "id": "HINc50Vz5tad",
        "colab_type": "code",
        "colab": {}
      },
      "source": [
        "# Lucid's modelzoo can be accessed as classes in vision_models\n",
        "import lucid.modelzoo.vision_models as models\n",
        "\n",
        "# ... or throguh a more systematic factory API\n",
        "import lucid.modelzoo.nets_factory as nets"
      ],
      "execution_count": 0,
      "outputs": []
    },
    {
      "cell_type": "code",
      "metadata": {
        "id": "pecCeJas5xlU",
        "colab_type": "code",
        "colab": {
          "base_uri": "https://localhost:8080/",
          "height": 527
        },
        "outputId": "6b3cb90e-a675-4a35-fbdd-fc6b0160e50e"
      },
      "source": [
        "print \"\"\n",
        "print \"Model\".ljust(27), \" \", \"Dataset\"\n",
        "print \"\"\n",
        "for name, Model in nets.models_map.iteritems():\n",
        "  print name.ljust(27), \" \", Model.dataset"
      ],
      "execution_count": 3,
      "outputs": [
        {
          "output_type": "stream",
          "text": [
            "\n",
            "Model                         Dataset\n",
            "\n",
            "PnasnetMobile_slim            ImageNet\n",
            "PnasnetLarge_slim             ImageNet\n",
            "InceptionV1_caffe_Places365   Places365\n",
            "MobilenetV1_025_slim          ImageNet\n",
            "AlexNet_caffe_Places365       Places365\n",
            "NasnetMobile_slim             ImageNet\n",
            "InceptionV2_slim              ImageNet\n",
            "ResnetV1_101_slim             ImageNet\n",
            "InceptionV1_caffe             ImageNet\n",
            "InceptionResnetV2_slim        ImageNet\n",
            "InceptionV3_slim              ImageNet\n",
            "InceptionV1_caffe_Places205   Places205\n",
            "InceptionV1_slim              ImageNet\n",
            "ResnetV1_50_slim              ImageNet\n",
            "CaffeNet_caffe                ImageNet\n",
            "InceptionV4_slim              ImageNet\n",
            "VGG19_caffe                   ImageNet\n",
            "ResnetV1_152_slim             ImageNet\n",
            "MobilenetV1_050_slim          ImageNet\n",
            "NasnetLarge_slim              ImageNet\n",
            "AlexNet                       ImageNet\n",
            "ResnetV2_101_slim             ImageNet\n",
            "ResnetV2_152_slim             ImageNet\n",
            "MobilenetV1_slim              ImageNet\n",
            "VGG16_caffe                   ImageNet\n",
            "InceptionV1                   ImageNet\n",
            "ResnetV2_50_slim              ImageNet\n"
          ],
          "name": "stdout"
        }
      ]
    }
  ]
}